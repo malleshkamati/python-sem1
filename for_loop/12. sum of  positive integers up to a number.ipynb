{
 "cells": [
  {
   "cell_type": "code",
   "execution_count": null,
   "metadata": {},
   "outputs": [],
   "source": []
  },
  {
   "cell_type": "markdown",
   "metadata": {},
   "source": [
    "12.Given a positive integer, find out the sum of all integers from 1 up to this number."
   ]
  },
  {
   "cell_type": "code",
   "execution_count": 2,
   "metadata": {},
   "outputs": [
    {
     "name": "stdout",
     "output_type": "stream",
     "text": [
      "sum of all positive integers up to 5 is 15\n"
     ]
    }
   ],
   "source": [
    "num1=int(input(\"enter the positive integer\"))\n",
    "sum1=0# Initialise variable to add all numbers and store in it.\n",
    "for i in range(1,num1+1): # run for loop to get numbers from 1 upto given number.\n",
    "    sum1=sum1+i# adding all the numbers one by one.\n",
    "print(\"sum of all positive integers up to\",num1,\"is:\",sum1)\n"
   ]
  },
  {
   "cell_type": "code",
   "execution_count": null,
   "metadata": {},
   "outputs": [],
   "source": []
  }
 ],
 "metadata": {
  "kernelspec": {
   "display_name": "Python 3",
   "language": "python",
   "name": "python3"
  },
  "language_info": {
   "codemirror_mode": {
    "name": "ipython",
    "version": 3
   },
   "file_extension": ".py",
   "mimetype": "text/x-python",
   "name": "python",
   "nbconvert_exporter": "python",
   "pygments_lexer": "ipython3",
   "version": "3.11.4"
  }
 },
 "nbformat": 4,
 "nbformat_minor": 2
}
