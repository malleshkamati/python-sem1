{
 "cells": [
  {
   "cell_type": "markdown",
   "metadata": {},
   "source": [
    "14.Given a positive integer, find out if it’s prime or not."
   ]
  },
  {
   "cell_type": "code",
   "execution_count": 18,
   "metadata": {},
   "outputs": [
    {
     "name": "stdout",
     "output_type": "stream",
     "text": [
      "101 is prime number\n"
     ]
    }
   ],
   "source": [
    "n=int(input(\"Enter the positive integer\"))\n",
    "m=0#intialising variable\n",
    "for i in range(2,int(n**0.5+1)):#we will check upto square root+1 integer \n",
    "    if n%i==0:\n",
    "        m+=1\n",
    "if n==1 or n==0 :\n",
    "    print(n,\"is not prime number\")\n",
    "elif m==0:\n",
    "    print(n,\"is prime number\")\n",
    "else:\n",
    "    print(n,\"is not prime number\")"
   ]
  },
  {
   "cell_type": "code",
   "execution_count": null,
   "metadata": {},
   "outputs": [],
   "source": []
  },
  {
   "cell_type": "code",
   "execution_count": null,
   "metadata": {},
   "outputs": [],
   "source": []
  }
 ],
 "metadata": {
  "kernelspec": {
   "display_name": "Python 3",
   "language": "python",
   "name": "python3"
  },
  "language_info": {
   "codemirror_mode": {
    "name": "ipython",
    "version": 3
   },
   "file_extension": ".py",
   "mimetype": "text/x-python",
   "name": "python",
   "nbconvert_exporter": "python",
   "pygments_lexer": "ipython3",
   "version": "3.11.4"
  }
 },
 "nbformat": 4,
 "nbformat_minor": 2
}
