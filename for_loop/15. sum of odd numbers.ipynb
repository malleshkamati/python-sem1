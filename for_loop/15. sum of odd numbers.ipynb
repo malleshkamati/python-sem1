{
 "cells": [
  {
   "cell_type": "markdown",
   "metadata": {},
   "source": [
    "15.Given a positive integer, find out the sum of all odd numbers from 1 up to this number."
   ]
  },
  {
   "cell_type": "code",
   "execution_count": 1,
   "metadata": {},
   "outputs": [
    {
     "name": "stdout",
     "output_type": "stream",
     "text": [
      "4  is sum of all odd numbers up to 3\n"
     ]
    }
   ],
   "source": [
    "num=int(input(\"Enter the positive integer\"))\n",
    "sum1=0\n",
    "for i in range(1,num+1,2):\n",
    "    sum1=sum1+i\n",
    "print(sum1,\" is sum of all odd numbers up to\",num)"
   ]
  },
  {
   "cell_type": "code",
   "execution_count": null,
   "metadata": {},
   "outputs": [],
   "source": []
  }
 ],
 "metadata": {
  "kernelspec": {
   "display_name": "Python 3",
   "language": "python",
   "name": "python3"
  },
  "language_info": {
   "codemirror_mode": {
    "name": "ipython",
    "version": 3
   },
   "file_extension": ".py",
   "mimetype": "text/x-python",
   "name": "python",
   "nbconvert_exporter": "python",
   "pygments_lexer": "ipython3",
   "version": "3.11.4"
  }
 },
 "nbformat": 4,
 "nbformat_minor": 2
}
