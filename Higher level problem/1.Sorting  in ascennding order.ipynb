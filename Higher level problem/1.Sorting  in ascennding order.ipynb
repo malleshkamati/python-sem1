{
 "cells": [
  {
   "cell_type": "markdown",
   "metadata": {},
   "source": [
    "1.Given a list of numbers, sort it in ascending order."
   ]
  },
  {
   "cell_type": "code",
   "execution_count": 3,
   "metadata": {},
   "outputs": [],
   "source": [
    "def ascending(list1):\n",
    "    len_list1=len(list1)#finding length of a list to set as range \n",
    "    for i in range(len_list1):#iterating over list\n",
    "        for j in range(len_list1):#taking each element of list and comparing it to the  all elements of list using for loop\n",
    "            if list1[i]<list1[j]:\n",
    "                list1[j],list1[i]=list1[i],list1[j]# if condition is satisfied then swaping the numbers\n",
    "    return list1\n"
   ]
  }
 ],
 "metadata": {
  "kernelspec": {
   "display_name": "Python 3",
   "language": "python",
   "name": "python3"
  },
  "language_info": {
   "codemirror_mode": {
    "name": "ipython",
    "version": 3
   },
   "file_extension": ".py",
   "mimetype": "text/x-python",
   "name": "python",
   "nbconvert_exporter": "python",
   "pygments_lexer": "ipython3",
   "version": "3.11.4"
  }
 },
 "nbformat": 4,
 "nbformat_minor": 2
}
