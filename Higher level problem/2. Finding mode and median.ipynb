{
 "cells": [
  {
   "cell_type": "markdown",
   "metadata": {},
   "source": [
    "2.Given a list of numbers, find out the median and mode."
   ]
  },
  {
   "cell_type": "code",
   "execution_count": 5,
   "metadata": {},
   "outputs": [
    {
     "name": "stdout",
     "output_type": "stream",
     "text": [
      "2\n",
      "2\n",
      "2\n",
      "2\n",
      "2\n",
      "2\n",
      "2\n",
      "2\n",
      "2\n",
      "2\n",
      "2\n",
      "2\n",
      "2\n",
      "2\n",
      "2\n",
      "2\n",
      "2\n",
      "2\n",
      "2\n",
      "2\n",
      "2\n",
      "2\n",
      "2\n",
      "2\n",
      "2\n",
      "2\n",
      "2\n",
      "2\n",
      "2\n",
      "2\n",
      "2\n",
      "2\n",
      "2\n",
      "2\n",
      "2\n",
      "2\n"
     ]
    }
   ],
   "source": [
    "list1=[1,22,33,33,44,5,5,5,5,7]\n",
    "len_list1=len(list1)\n",
    "dict1={} \n",
    "mode=[]\n",
    "result_dict={}\n",
    "for i in range(len_list1):#iterating over list\n",
    "    for j in range(len_list1):# iterating over to compare one element other elements in alist\n",
    "        if list1[i]<list1[j]:\n",
    "            list1[j],list1[i]=list1[i],list1[j]# swaping the number to arrage them in ascending order\n",
    "    if len_list1%2==0:\n",
    "        median=(list1[(len_list1-1)//2]+list1[(len_list1)//2])/2#let us take data has n numbers if n is even to find median we will find the meanof nth and (n+1)/2th number same concept is applied here also\n",
    "    else:\n",
    "        median=list1[len_list1//2]# if we are having n numbers in a data the median is n/2th number\n",
    "result_dict['median']=median\n",
    "# Now list1 is ascending ordered list\n",
    "\n",
    "for k in list1:# iterating over list1\n",
    "    count=0\n",
    "    for l in list1:#iterating over list1 to comapare nwith it self and finding number of times a element occured in a list\n",
    "        if k==l:\n",
    "            count+=1\n",
    "            dict1[k]=count# adding count to dictionary from which we can easily find mode\n",
    "print(dict1)\n",
    "max_val=0 #initialising new variable to store maximum value of count\n",
    "for value in dict1.values():\n",
    "    if max_val<value:\n",
    "        max_val=value\n",
    "for key,value in dict1.items():\n",
    "    if value==max_val:\n",
    "        mode.append(key)#The key or keys corresponding to maximum count will be mode of the data\n",
    "result_dict['mode']=mode\n",
    "print(result_dict)\n",
    "\n",
    "    \n",
    "\n"
   ]
  },
  {
   "cell_type": "markdown",
   "metadata": {},
   "source": [
    "8.Given a list of integers, find the sum of all pairs of integers in the list that are equal."
   ]
  },
  {
   "cell_type": "code",
   "execution_count": 11,
   "metadata": {},
   "outputs": [
    {
     "name": "stdout",
     "output_type": "stream",
     "text": [
      "[]\n",
      "[1, 3, 1, 2]\n",
      "[1, 3, 1, 2, 3, 2, 3, 4]\n",
      "[1, 3, 1, 2, 3, 2, 3, 4, 5, 3, 4, 5]\n",
      "[(1, 2), (1, 3), (1, 4), (2, 1), (2, 2), (2, 3), (2, 4), (3, 1), (3, 2), (3, 3), (3, 4), (4, 1), (4, 2), (4, 3), (4, 4)]\n"
     ]
    }
   ],
   "source": [
    "list1=[1,2,3,4]\n",
    "list2=[]\n",
    "list3=[]\n",
    "len_list1=len(list1)\n",
    "for i in range(len_list1):\n",
    "    for j in range(len_list1):\n",
    "        sum1=i+j\n",
    "        list2.append(sum1)\n",
    "        if i==j:\n",
    "            list2.remove(sum1)\n",
    "            print(list2)\n",
    "        l=len(list2)\n",
    "        for k in range(l):\n",
    "            for m in range(l):\n",
    "                if list2[k]==list2[m]:\n",
    "                    if (list1[i],list1[j]) not in list3:\n",
    "                        list3.append((list1[i],list1[j]))\n",
    "print(list3)\n",
    "\n",
    "        "
   ]
  },
  {
   "cell_type": "code",
   "execution_count": 2,
   "metadata": {},
   "outputs": [
    {
     "name": "stdout",
     "output_type": "stream",
     "text": [
      "[1, 3, 2]\n"
     ]
    }
   ],
   "source": [
    "list2=[1,2,3,2]\n",
    "list2.remove(2)\n",
    "print(list2)"
   ]
  },
  {
   "cell_type": "code",
   "execution_count": null,
   "metadata": {},
   "outputs": [],
   "source": []
  }
 ],
 "metadata": {
  "kernelspec": {
   "display_name": "Python 3",
   "language": "python",
   "name": "python3"
  },
  "language_info": {
   "codemirror_mode": {
    "name": "ipython",
    "version": 3
   },
   "file_extension": ".py",
   "mimetype": "text/x-python",
   "name": "python",
   "nbconvert_exporter": "python",
   "pygments_lexer": "ipython3",
   "version": "3.11.4"
  }
 },
 "nbformat": 4,
 "nbformat_minor": 2
}
