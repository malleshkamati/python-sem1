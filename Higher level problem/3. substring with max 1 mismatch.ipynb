{
 "cells": [
  {
   "cell_type": "markdown",
   "metadata": {},
   "source": [
    "9.Given a string input, find out if it contains a particular substring (allowing for one mismatch)."
   ]
  },
  {
   "cell_type": "code",
   "execution_count": 56,
   "metadata": {},
   "outputs": [],
   "source": [
    "# for checking substring we create two arguments by using function. \n",
    "def my_func(main_string, substring):\n",
    "    if len(substring) > len(main_string):# if main string is more length than substring then then it is not a substring\n",
    "        return False\n",
    "\n",
    "    for i in range(len(main_string) - len(substring) + 1):\n",
    "        mismatch_count = 0\n",
    "    # we run for loop on substring for checking\n",
    "        for j in range(len(substring)):\n",
    "            if main_string[i + j] != substring[j]:\n",
    "                mismatch_count += 1# counting number of mismatchs\n",
    "    \n",
    "        if mismatch_count <= 1:# if mismatch count is 0 or 1 then it is true\n",
    "            return True\n",
    "\n",
    "    return False\n",
    "\n",
    "\n"
   ]
  },
  {
   "cell_type": "code",
   "execution_count": 57,
   "metadata": {},
   "outputs": [
    {
     "data": {
      "text/plain": [
       "True"
      ]
     },
     "execution_count": 57,
     "metadata": {},
     "output_type": "execute_result"
    }
   ],
   "source": [
    "my_func(\"madda\",\"dda\")"
   ]
  },
  {
   "cell_type": "code",
   "execution_count": null,
   "metadata": {},
   "outputs": [],
   "source": []
  }
 ],
 "metadata": {
  "kernelspec": {
   "display_name": "Python 3",
   "language": "python",
   "name": "python3"
  },
  "language_info": {
   "codemirror_mode": {
    "name": "ipython",
    "version": 3
   },
   "file_extension": ".py",
   "mimetype": "text/x-python",
   "name": "python",
   "nbconvert_exporter": "python",
   "pygments_lexer": "ipython3",
   "version": "3.11.4"
  }
 },
 "nbformat": 4,
 "nbformat_minor": 2
}
