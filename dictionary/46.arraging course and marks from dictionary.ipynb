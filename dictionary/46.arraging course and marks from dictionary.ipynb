{
 "cells": [
  {
   "cell_type": "markdown",
   "metadata": {},
   "source": [
    "46.Create a dictionary to store the total marks of 5 students in the class in 3 subjects (Course1, Course2, Course3). The keys must be the student names, and the values must be the list of marks. Create another list which has the course names in the same order as the marks are stored in the dictionary values. Now write a nested for loop to print the marks for each student exam wise.\n",
    "Student1\n",
    "Course1 marks : 82\n",
    "Course2 marks : 84\n",
    "Course3 marks : 72\n",
    "Student2\n",
    "Course1 marks : 87\n",
    "Course2 marks : 83\n",
    "Course3 marks : 78\n"
   ]
  },
  {
   "cell_type": "code",
   "execution_count": 7,
   "metadata": {},
   "outputs": [
    {
     "name": "stdout",
     "output_type": "stream",
     "text": [
      "Sachi\n",
      "course1 marks : 68\n",
      "course2 marks : 95\n",
      "course3 marks : 81\n",
      "Rajat\n",
      "course1 marks : 87\n",
      "course2 marks : 65\n",
      "course3 marks : 78\n",
      "Avinash\n",
      "course1 marks : 89\n",
      "course2 marks : 58\n",
      "course3 marks : 96\n",
      "Kartik\n",
      "course1 marks : 98\n",
      "course2 marks : 42\n",
      "course3 marks : 63\n",
      "Akshay\n",
      "course1 marks : 63\n",
      "course2 marks : 84\n",
      "course3 marks : 52\n"
     ]
    }
   ],
   "source": [
    "student_marks={'Sachi':[68,95,81],'Rajat':[87,65,78],'Avinash':[89,58,96],'Kartik':[98,42,63],'Akshay':[63,84,52]}\n",
    "course_name=['course1 marks','course2 marks','course3 marks']\n",
    "for key,value in student_marks.items():\n",
    "    print(key)\n",
    "    for i in range(len(value)):\n",
    "        print(course_name[i],':',value[i])\n",
    "        \n"
   ]
  },
  {
   "cell_type": "code",
   "execution_count": null,
   "metadata": {},
   "outputs": [],
   "source": []
  }
 ],
 "metadata": {
  "kernelspec": {
   "display_name": "Python 3",
   "language": "python",
   "name": "python3"
  },
  "language_info": {
   "codemirror_mode": {
    "name": "ipython",
    "version": 3
   },
   "file_extension": ".py",
   "mimetype": "text/x-python",
   "name": "python",
   "nbconvert_exporter": "python",
   "pygments_lexer": "ipython3",
   "version": "3.11.4"
  }
 },
 "nbformat": 4,
 "nbformat_minor": 2
}
