{
 "cells": [
  {
   "cell_type": "markdown",
   "metadata": {},
   "source": [
    "41.convert these two lists into a dictionary.Take the key from the first list, and values from the second one.\n",
    "keys=['Ten','Twenty','Thirty']\n",
    "values=[10,20,30]"
   ]
  },
  {
   "cell_type": "code",
   "execution_count": 6,
   "metadata": {},
   "outputs": [
    {
     "name": "stdout",
     "output_type": "stream",
     "text": [
      "{'Ten': 10, 'Twenty': 20, 'Thirty': 30}\n"
     ]
    }
   ],
   "source": [
    "keys=['Ten','Twenty','Thirty']\n",
    "values=[10,20,30,]\n",
    "dict_new={ }\n",
    "if len(keys)==len(values):# checking whether length of lists are same or not because to assign a single key to single value\n",
    "    for i in range(len(keys)):  \n",
    "        key=keys[i]\n",
    "        value=values[i]\n",
    "        dict_new[key]=value\n",
    "print(dict_new)"
   ]
  },
  {
   "cell_type": "code",
   "execution_count": null,
   "metadata": {},
   "outputs": [],
   "source": []
  }
 ],
 "metadata": {
  "kernelspec": {
   "display_name": "Python 3",
   "language": "python",
   "name": "python3"
  },
  "language_info": {
   "codemirror_mode": {
    "name": "ipython",
    "version": 3
   },
   "file_extension": ".py",
   "mimetype": "text/x-python",
   "name": "python",
   "nbconvert_exporter": "python",
   "pygments_lexer": "ipython3",
   "version": "3.11.4"
  }
 },
 "nbformat": 4,
 "nbformat_minor": 2
}
