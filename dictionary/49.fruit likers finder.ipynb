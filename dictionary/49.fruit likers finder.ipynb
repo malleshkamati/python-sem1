{
 "cells": [
  {
   "cell_type": "markdown",
   "metadata": {},
   "source": [
    "49.Create a dictionary whose keys are the names of your family members and friends, and the values are the list of fruits they like to eat. Now if the user gives a fruit as input, the code should print the list of names who like this fruit. Write another code to print the list of people who do not like this fruit. Using this dictionary as input, write a code to make a consolidated list of all the fruit names present in the values of various keys. This list should not have any duplicate entries. Do not use the set() function."
   ]
  },
  {
   "cell_type": "code",
   "execution_count": 34,
   "metadata": {},
   "outputs": [
    {
     "name": "stdout",
     "output_type": "stream",
     "text": [
      "the people who are  liking the fruit are: ['madan', 'nikhita']\n"
     ]
    }
   ],
   "source": [
    "family_members={'madan':['apple','banana','grapes'],'nikhita':['orange','mango','apple'],'kartik':['banana','lemon'],'basu':['papaya','mango']}\n",
    "liked_fruit=input(\"enter the fruit name\")\n",
    "list_liked=[]\n",
    "for key,value in family_members.items():\n",
    "    if liked_fruit in value:\n",
    "        list_liked.append(key)\n",
    "print(\"the people who are  liking the fruit are:\",list_liked)#if the given fruit is not liked by anyone then the list will be empty\n"
   ]
  },
  {
   "cell_type": "code",
   "execution_count": 10,
   "metadata": {},
   "outputs": [
    {
     "name": "stdout",
     "output_type": "stream",
     "text": [
      "the people who do not like the fruit are ['kartik', 'basu']\n"
     ]
    }
   ],
   "source": [
    "family_members={'madan':['apple','banana','groups'],'nikhita':['orange','mango','apple'],'kartik':['banana','lemon'],'basu':['papaya','mango']}\n",
    "liked_fruit=input(\"enter the fruit name\")\n",
    "list_not_liked=[]\n",
    "for key,value in family_members.items():\n",
    "    if liked_fruit not in value:\n",
    "        list_not_liked.append(key)\n",
    "print('the people who do not like the fruit are',list_not_liked)"
   ]
  },
  {
   "cell_type": "code",
   "execution_count": 33,
   "metadata": {},
   "outputs": [
    {
     "name": "stdout",
     "output_type": "stream",
     "text": [
      "['apple', 'banana', 'grapes', 'orange', 'mango', 'lemon', 'papaya']\n"
     ]
    }
   ],
   "source": [
    "family_members={'madan':['apple','banana','grapes'],'nikhita':['orange','mango','apple'],'kartik':['banana','lemon'],'basu':['papaya','mango']}\n",
    "list_fruit=[]\n",
    "for value in family_members.values():\n",
    "    for i in value:\n",
    "        if i not in list_fruit:\n",
    "            list_fruit.append(i)\n",
    "print(list_fruit)\n"
   ]
  },
  {
   "cell_type": "code",
   "execution_count": null,
   "metadata": {},
   "outputs": [],
   "source": []
  },
  {
   "cell_type": "code",
   "execution_count": null,
   "metadata": {},
   "outputs": [],
   "source": []
  }
 ],
 "metadata": {
  "kernelspec": {
   "display_name": "Python 3",
   "language": "python",
   "name": "python3"
  },
  "language_info": {
   "codemirror_mode": {
    "name": "ipython",
    "version": 3
   },
   "file_extension": ".py",
   "mimetype": "text/x-python",
   "name": "python",
   "nbconvert_exporter": "python",
   "pygments_lexer": "ipython3",
   "version": "3.11.4"
  }
 },
 "nbformat": 4,
 "nbformat_minor": 2
}
