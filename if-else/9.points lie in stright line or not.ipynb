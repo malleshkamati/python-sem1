{
 "cells": [
  {
   "cell_type": "markdown",
   "metadata": {},
   "source": [
    "9.Given three points, find out whether they lie on the same straight line or not."
   ]
  },
  {
   "cell_type": "code",
   "execution_count": 5,
   "metadata": {},
   "outputs": [
    {
     "name": "stdout",
     "output_type": "stream",
     "text": [
      "points lie in in a straight line \n"
     ]
    }
   ],
   "source": [
    "x1=float(input(\"enter the x-coordinate of first point\"))\n",
    "y1=float(input(\"enter the y-coordinate of first point\"))\n",
    "x2=float(input(\"enter the x-coordinate of second point\"))\n",
    "y2=float(input(\"enter the y-coordinate of second point\"))\n",
    "x3=float(input(\"enter the x-coordinate of third point\"))\n",
    "y3=float(input(\"enter the y-coordinate of third point\"))\n",
    "area = x1*(y2-y1)+x2*(y3-y1)+x3*(y1-y2)# formula to find area\n",
    "if area==0:#when 3 points in one line they will not form triangle  then area equal to zero\n",
    "    print(\"points lie in in a straight line \")\n",
    "else:\n",
    "    print(\" points do not lie in striaght line\")"
   ]
  },
  {
   "cell_type": "code",
   "execution_count": null,
   "metadata": {},
   "outputs": [],
   "source": []
  },
  {
   "cell_type": "code",
   "execution_count": null,
   "metadata": {},
   "outputs": [],
   "source": []
  }
 ],
 "metadata": {
  "kernelspec": {
   "display_name": "Python 3",
   "language": "python",
   "name": "python3"
  },
  "language_info": {
   "codemirror_mode": {
    "name": "ipython",
    "version": 3
   },
   "file_extension": ".py",
   "mimetype": "text/x-python",
   "name": "python",
   "nbconvert_exporter": "python",
   "pygments_lexer": "ipython3",
   "version": "3.11.4"
  }
 },
 "nbformat": 4,
 "nbformat_minor": 2
}
