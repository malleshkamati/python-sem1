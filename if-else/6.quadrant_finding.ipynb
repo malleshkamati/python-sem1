{
 "cells": [
  {
   "cell_type": "markdown",
   "metadata": {},
   "source": [
    "6.Given a point (x1, y1), find the quadrant in which this point lies.\n"
   ]
  },
  {
   "cell_type": "code",
   "execution_count": 2,
   "metadata": {},
   "outputs": [
    {
     "name": "stdout",
     "output_type": "stream",
     "text": [
      "(-5.0, -87.0) lies in  third quadrant\n"
     ]
    }
   ],
   "source": [
    "x1=float(input(\"enter the absicca of the point\"))\n",
    "y1=float(input(\"enter the ordinate of the point\"))\n",
    "if x1==0 and y1==0:\n",
    "    print(\"The point is origin\")\n",
    "elif x1>=0 and y1>=0:#we are checking in first quadrant\n",
    "    if x1==0:\n",
    "        print((x1,y1),\"point lies in positive y axis\")\n",
    "    elif y1==0:\n",
    "        print((x1,y1),\"point lies in positive x axis\")\n",
    "    else:\n",
    "        print((x1,y1),\"lies in first quadrant\")\n",
    "elif x1<=0 and y1<=0:\n",
    "    if x1==0:\n",
    "        print((x1,y1),\"lies in negitive y axis\")\n",
    "    elif y1==0:\n",
    "        print((x1,y1),\"lies in negitive x axis\")\n",
    "    else:\n",
    "        print((x1,y1),\"lies in  third quadrant\")\n",
    "elif x1>0 and y1<0:\n",
    "    print((x1,y1),\"lies in  second qudrant\")\n",
    "else:\n",
    "    print((x1,y1),\"lies in  fourth quadrant\")\n",
    "        \n",
    "\n",
    "\n"
   ]
  },
  {
   "cell_type": "code",
   "execution_count": null,
   "metadata": {},
   "outputs": [],
   "source": []
  }
 ],
 "metadata": {
  "kernelspec": {
   "display_name": "Python 3",
   "language": "python",
   "name": "python3"
  },
  "language_info": {
   "codemirror_mode": {
    "name": "ipython",
    "version": 3
   },
   "file_extension": ".py",
   "mimetype": "text/x-python",
   "name": "python",
   "nbconvert_exporter": "python",
   "pygments_lexer": "ipython3",
   "version": "3.11.4"
  }
 },
 "nbformat": 4,
 "nbformat_minor": 2
}
