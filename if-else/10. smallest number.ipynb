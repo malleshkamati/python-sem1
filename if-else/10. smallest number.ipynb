{
 "cells": [
  {
   "cell_type": "markdown",
   "metadata": {},
   "source": [
    "10.Given three integers, find the smallest one."
   ]
  },
  {
   "cell_type": "code",
   "execution_count": 2,
   "metadata": {},
   "outputs": [
    {
     "name": "stdout",
     "output_type": "stream",
     "text": [
      "4 is smallest integer\n"
     ]
    }
   ],
   "source": [
    "num1=int(input(\"enter the  first  integer \"))\n",
    "num2=int(input(\"enter the second integer\"))\n",
    "num3=int(input(\"enter the third integer\"))\n",
    "if num1<num2 and num1<num3:#if a number is smaller than other two numbers then it is smallest\n",
    "    print(num1,\"is smallest integer\")\n",
    "elif num2<num3:#we are only comparing num2 and num3 because we compared num1 in above condition\n",
    "    print(num2,\"is smallest integer\")\n",
    "else:\n",
    "    print(num3,\"is smallest integer\")"
   ]
  },
  {
   "cell_type": "code",
   "execution_count": null,
   "metadata": {},
   "outputs": [],
   "source": []
  }
 ],
 "metadata": {
  "kernelspec": {
   "display_name": "Python 3",
   "language": "python",
   "name": "python3"
  },
  "language_info": {
   "codemirror_mode": {
    "name": "ipython",
    "version": 3
   },
   "file_extension": ".py",
   "mimetype": "text/x-python",
   "name": "python",
   "nbconvert_exporter": "python",
   "pygments_lexer": "ipython3",
   "version": "3.11.4"
  }
 },
 "nbformat": 4,
 "nbformat_minor": 2
}
