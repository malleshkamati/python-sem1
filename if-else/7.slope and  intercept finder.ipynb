{
 "cells": [
  {
   "cell_type": "markdown",
   "metadata": {},
   "source": [
    "7.Given two points (x1, y1) and (x2, y2), find the slope and intercept of the line joining these two points (the line may be perfectly horizontal or vertical)."
   ]
  },
  {
   "cell_type": "code",
   "execution_count": 9,
   "metadata": {},
   "outputs": [
    {
     "name": "stdout",
     "output_type": "stream",
     "text": [
      "slope of a line is 1.0\n",
      "intercept of lie is 2.0\n"
     ]
    }
   ],
   "source": [
    "x1=float(input(\"enter the absissa of  first  point\"))\n",
    "x2=float(input(\"enter the absissa of second  point\"))\n",
    "y1=float(input(\"enter the ordinate of first point\"))\n",
    "y2=float(input(\"enter the ordinate of second point\"))\n",
    "if x2-x1==0:\n",
    "    print(\"slope is not defined and line is  parallel to y axis \")\n",
    "else:    \n",
    "    m=(y2-y1)/(x2-x1)#m is slope and it is formula to find slope \n",
    "    c=y1-(m*x1)#c is intercept of line by formula y=mx+c\n",
    "    print(\"slope of a line is\",m)\n",
    "    print(\"intercept of lie is\",c)\n",
    "\n"
   ]
  },
  {
   "cell_type": "code",
   "execution_count": null,
   "metadata": {},
   "outputs": [],
   "source": []
  }
 ],
 "metadata": {
  "kernelspec": {
   "display_name": "Python 3",
   "language": "python",
   "name": "python3"
  },
  "language_info": {
   "codemirror_mode": {
    "name": "ipython",
    "version": 3
   },
   "file_extension": ".py",
   "mimetype": "text/x-python",
   "name": "python",
   "nbconvert_exporter": "python",
   "pygments_lexer": "ipython3",
   "version": "3.11.4"
  }
 },
 "nbformat": 4,
 "nbformat_minor": 2
}
