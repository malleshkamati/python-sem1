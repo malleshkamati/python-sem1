{
 "cells": [
  {
   "cell_type": "markdown",
   "metadata": {},
   "source": [
    "7.Given a list of integers, find all pairs of integers in the list whose sum is zero"
   ]
  },
  {
   "cell_type": "code",
   "execution_count": 6,
   "metadata": {},
   "outputs": [
    {
     "name": "stdout",
     "output_type": "stream",
     "text": [
      "[(1, -1), (3, -3), (8, -8), (0, 0)]\n"
     ]
    }
   ],
   "source": [
    "list1=[1,6,3,9,8,-8,-3,69,-1,0,0]\n",
    "zero_pairs=[]\n",
    "for i in list1:\n",
    "    for j in list1:# nested for loop because to iterate 2 times a list to find the possible pairs which gives zero as a sum\n",
    "        if i==-j:# if a and b are 2 numbers if a+b=0 then a=-b same logic is applied here also \n",
    "            if (j,i) not in zero_pairs:# to print only one pair \n",
    "                zero_pairs.append((i,j))\n",
    "print(zero_pairs)\n",
    "\n",
    "\n"
   ]
  },
  {
   "cell_type": "code",
   "execution_count": null,
   "metadata": {},
   "outputs": [],
   "source": []
  }
 ],
 "metadata": {
  "kernelspec": {
   "display_name": "Python 3",
   "language": "python",
   "name": "python3"
  },
  "language_info": {
   "codemirror_mode": {
    "name": "ipython",
    "version": 3
   },
   "file_extension": ".py",
   "mimetype": "text/x-python",
   "name": "python",
   "nbconvert_exporter": "python",
   "pygments_lexer": "ipython3",
   "version": "3.11.4"
  }
 },
 "nbformat": 4,
 "nbformat_minor": 2
}
