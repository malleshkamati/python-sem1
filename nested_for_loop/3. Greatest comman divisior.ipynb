{
 "cells": [
  {
   "cell_type": "markdown",
   "metadata": {},
   "source": [
    "3.Given two numbers, find its Greatest Common Divisor (Divisor)."
   ]
  },
  {
   "cell_type": "code",
   "execution_count": 2,
   "metadata": {},
   "outputs": [
    {
     "name": "stdout",
     "output_type": "stream",
     "text": [
      "5 is greatest comman divisior of 15 and 25\n"
     ]
    }
   ],
   "source": [
    "a=int(input(\"enter a positive integer\"))\n",
    "b=int(input(\"enter a positive integer\"))\n",
    "if a==b:#known result\n",
    "    print(a,\"is hcf of two numbers\")\n",
    "elif a>b:# checking minimum number because Greatest Common Divisor is lesser than or equal to minimum number\n",
    "    min_num=b\n",
    "else:\n",
    "    min_num=a\n",
    "for i in range(1,min_num+1):\n",
    "    if a%i==0 and b%i==0:\n",
    "        hcf=i\n",
    "print(hcf,\"is greatest comman divisior of\",a,\"and\",b)\n"
   ]
  },
  {
   "cell_type": "code",
   "execution_count": null,
   "metadata": {},
   "outputs": [],
   "source": []
  }
 ],
 "metadata": {
  "kernelspec": {
   "display_name": "Python 3",
   "language": "python",
   "name": "python3"
  },
  "language_info": {
   "codemirror_mode": {
    "name": "ipython",
    "version": 3
   },
   "file_extension": ".py",
   "mimetype": "text/x-python",
   "name": "python",
   "nbconvert_exporter": "python",
   "pygments_lexer": "ipython3",
   "version": "3.11.4"
  }
 },
 "nbformat": 4,
 "nbformat_minor": 2
}
