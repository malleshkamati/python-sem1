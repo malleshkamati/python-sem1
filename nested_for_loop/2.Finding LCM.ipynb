{
 "cells": [
  {
   "cell_type": "markdown",
   "metadata": {},
   "source": [
    "2.Given two numbers, find its Least Common Multiple (LCM)."
   ]
  },
  {
   "cell_type": "code",
   "execution_count": 2,
   "metadata": {},
   "outputs": [
    {
     "name": "stdout",
     "output_type": "stream",
     "text": [
      "75.0 Least Common Multiple of 25 and 15\n"
     ]
    }
   ],
   "source": [
    "num1=int(input(\"enter a positive integer\"))\n",
    "num2=int(input(\"enter a positive integer\"))\n",
    "pr=num1*num2\n",
    "if num1==num2:#Known result\n",
    "    lcm=num1\n",
    "elif num1>num2:\n",
    "    min_num=num2\n",
    "else:\n",
    "    min_num=num1\n",
    "for i in range(1,min_num):\n",
    "    if num1%i==0 and num2%i==0:\n",
    "        hcf=i\n",
    "lcm=pr/hcf# Greatest Common Divisor of two numbers multiplied by Least Common Multiple of same numbers gives product of that two numbers\n",
    "print(lcm,\"Least Common Multiple of\",num1,\"and\",num2)\n",
    "\n"
   ]
  },
  {
   "cell_type": "code",
   "execution_count": null,
   "metadata": {},
   "outputs": [],
   "source": []
  }
 ],
 "metadata": {
  "kernelspec": {
   "display_name": "Python 3",
   "language": "python",
   "name": "python3"
  },
  "language_info": {
   "codemirror_mode": {
    "name": "ipython",
    "version": 3
   },
   "file_extension": ".py",
   "mimetype": "text/x-python",
   "name": "python",
   "nbconvert_exporter": "python",
   "pygments_lexer": "ipython3",
   "version": "3.11.4"
  }
 },
 "nbformat": 4,
 "nbformat_minor": 2
}
