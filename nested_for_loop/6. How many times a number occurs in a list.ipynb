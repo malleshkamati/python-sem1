{
 "cells": [
  {
   "cell_type": "markdown",
   "metadata": {},
   "source": [
    "6.Given a list of numbers, find out how many times each number occurs in the list."
   ]
  },
  {
   "cell_type": "code",
   "execution_count": 9,
   "metadata": {},
   "outputs": [
    {
     "name": "stdout",
     "output_type": "stream",
     "text": [
      "4 occurs 2 times\n",
      "2 occurs 2 times\n",
      "5 occurs 1 times\n",
      "3 occurs 2 times\n",
      "4 occurs 2 times\n",
      "1 occurs 1 times\n",
      "2 occurs 2 times\n",
      "3 occurs 2 times\n",
      "6 occurs 1 times\n",
      "7 occurs 1 times\n",
      "8 occurs 1 times\n"
     ]
    }
   ],
   "source": [
    "list1=[4,2,5,3,4,1,2,3,6,7,8]\n",
    "for i in list1:\n",
    "    count=0#initialisation of variable to count\n",
    "    for j in list1:# running in same for loop above for checking the number same or not if they are same it is counting\n",
    "        if i==j:\n",
    "            count=count+1\n",
    "    print(i,\"occurs\",count,\"times\")"
   ]
  },
  {
   "cell_type": "code",
   "execution_count": null,
   "metadata": {},
   "outputs": [],
   "source": []
  }
 ],
 "metadata": {
  "kernelspec": {
   "display_name": "Python 3",
   "language": "python",
   "name": "python3"
  },
  "language_info": {
   "codemirror_mode": {
    "name": "ipython",
    "version": 3
   },
   "file_extension": ".py",
   "mimetype": "text/x-python",
   "name": "python",
   "nbconvert_exporter": "python",
   "pygments_lexer": "ipython3",
   "version": "3.11.4"
  }
 },
 "nbformat": 4,
 "nbformat_minor": 2
}
