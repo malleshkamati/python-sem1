{
 "cells": [
  {
   "cell_type": "markdown",
   "metadata": {},
   "source": [
    "Robinsons formula for calculating weight given their height"
   ]
  },
  {
   "cell_type": "code",
   "execution_count": 10,
   "metadata": {},
   "outputs": [
    {
     "name": "stdout",
     "output_type": "stream",
     "text": [
      "52.0\n"
     ]
    }
   ],
   "source": [
    "a=float(input(\"enter the gender 1 for male and 0 for female \"))\n",
    "b=float(input(\"enter height in inches above 60 inches\"))\n",
    "\n",
    "if a == 1:#if we calculating for male we have to enter 1\n",
    "    c=52 + 1.9*b\n",
    "    print(c)\n",
    "else:#if we calculating for female we have to enter 0 and else code will run and we will get the weight\n",
    "    d=49 + 1.6*b\n",
    "    print(d)"
   ]
  },
  {
   "cell_type": "markdown",
   "metadata": {},
   "source": [
    "Given two numbers a and b, find a/b (b could be zero)\n"
   ]
  },
  {
   "cell_type": "code",
   "execution_count": 8,
   "metadata": {},
   "outputs": [
    {
     "name": "stdout",
     "output_type": "stream",
     "text": [
      "the first number is: 5.0\n",
      "the second number is: 2.0\n",
      "2.5\n"
     ]
    }
   ],
   "source": [
    "a = float(input(\"enter a first number\"))\n",
    "print(\"the first number is:\", a)\n",
    "b = float(input(\"enter asecond number\"))\n",
    "print(\"the second number is:\", b)\n",
    "\n",
    "if b==0:#if denominator in fraction is 0 then its value is not defined\n",
    "    print(\"not defined\")\n",
    "else:\n",
    "    m=a/b#we are dividing a by b\n",
    "    print(m)\n",
    "\n",
    "\n"
   ]
  },
  {
   "cell_type": "markdown",
   "metadata": {},
   "source": [
    "Given a point in 2D space, find the quadrant in which it lies. "
   ]
  },
  {
   "cell_type": "code",
   "execution_count": 11,
   "metadata": {},
   "outputs": [
    {
     "name": "stdout",
     "output_type": "stream",
     "text": [
      "the abscissa if the point is: 0.0\n",
      "the ordinate of the point is: -5.0\n",
      "it is negitive y axis\n"
     ]
    }
   ],
   "source": [
    "# taking any  point from the line and denoting the points as (x,y)\n",
    "x=float(input(\"enter the abscissa of a point\"))\n",
    "print(\"the abscissa if the point is:\", x)\n",
    "y=float(input(\"enter the ordinate of the point\"))\n",
    "print(\"the ordinate of the point is:\", y)\n",
    "if x>0 and y>0:# we are considering all the posible values of x and y\n",
    "    print(\"it is in first qudrant\")\n",
    "elif x<0 and y>0:\n",
    "    print(\"it is in second quadrant\")\n",
    "elif x<0 and y<0:\n",
    "    print(\"it is in third quadrant\")\n",
    "elif x>0 and y<0:\n",
    "    print(\"it is in fourth quadrant\")\n",
    "elif x==0 and y==0:\n",
    "     print(\"it is origin\")\n",
    "elif x==0:\n",
    "    if y>0:\n",
    "        print(\"it is in positive y axis\")\n",
    "    elif y<0:\n",
    "        print(\"it is negitive y axis\")\n",
    "elif y==0:\n",
    "    if x>0:\n",
    "        print(\"it is in positive x axis\")\n",
    "    elif x<0:\n",
    "        print(\"it is in negitive x axis\")\n",
    "else:\n",
    "    print(\"\")\n",
    "        \n",
    "        \n",
    "\n"
   ]
  },
  {
   "cell_type": "markdown",
   "metadata": {},
   "source": [
    "Given two points in 2D space, find the slope and y-intercept of the line joining them. Consider all cases\n"
   ]
  },
  {
   "cell_type": "code",
   "execution_count": 3,
   "metadata": {},
   "outputs": [
    {
     "name": "stdout",
     "output_type": "stream",
     "text": [
      "2.0\n",
      "0.0\n"
     ]
    }
   ],
   "source": [
    "# taking any two points from the line and denoting the points as (x1,y1),(x2,y2)\n",
    "x1=float(input(\"enter the x component from first point\"))\n",
    "x2=float(input(\"enter the x component from second point\"))\n",
    "y1=float(input(\"enter y component from first point\"))\n",
    "y2=float(input(\"enter the y component from second point\"))\n",
    "y=y2-y1\n",
    "x=x2-x1\n",
    "if x==0:\n",
    "    print(\"slope is not defined\")\n",
    "elif x != 0:\n",
    "    m=y/x#m is slope of line\n",
    "    print(m)\n",
    "    c=y-m*x#c is y intercept of a line\n",
    "    print(c)\n",
    "\n"
   ]
  },
  {
   "cell_type": "markdown",
   "metadata": {},
   "source": [
    "Given a temperature in Fahrenheit, convert it to Celsius. If the temperature is below 10 degree celcius output cold, between 10 and 25 output pleasant, between 25 and 35 output warm, and above 35 output hot.\n",
    "\n"
   ]
  },
  {
   "cell_type": "code",
   "execution_count": 4,
   "metadata": {},
   "outputs": [
    {
     "name": "stdout",
     "output_type": "stream",
     "text": [
      "36.111111111111114\n",
      "it is hot\n"
     ]
    }
   ],
   "source": [
    "a=float(input(\"enter the temprature in fahrenheit\"))#taking input from user in fahrenheit\n",
    "c=(a-32)*5/9#c is temprature in degree celcius and this is formula to convert fahrenheit to degree celius\n",
    "print(c)\n",
    "if c <10:\n",
    "    print(\"it is cold\")\n",
    "elif c>10 and c<25:\n",
    "    print(\"it is pleasent\")\n",
    "elif c>25 and c<35:\n",
    "    print(\"it is warm\")\n",
    "elif c>35:\n",
    "    print(\"it is hot\")\n",
    "else:\n",
    "    print(\"\")\n",
    "\n",
    "\n"
   ]
  },
  {
   "cell_type": "markdown",
   "metadata": {},
   "source": [
    " Given three points, find out whether they lie on the same straight line or not."
   ]
  },
  {
   "cell_type": "code",
   "execution_count": 1,
   "metadata": {},
   "outputs": [
    {
     "name": "stdout",
     "output_type": "stream",
     "text": [
      "all points lie on the same line\n"
     ]
    }
   ],
   "source": [
    "#take three points as(x1,y1),(x2,y2),(x3,y3)\n",
    "x1=float(input(\"enter the x component from first point\"))\n",
    "x2=float(input(\"enter the x component from second point\"))\n",
    "x3=float(input(\"enter a x component of third point\"))\n",
    "y1=float(input(\"enter y component from first point\"))\n",
    "y2=float(input(\"enter the y component from second point\"))\n",
    "y3=float(input(\"enter a y component of third point\"))\n",
    "a=y2-y3\n",
    "b=y3-y1\n",
    "c=y1-y2\n",
    "m =((x1*a) + (x2*b) + (x3*c))/(2)\n",
    "#formula for finding area of triangle when the coordinates of triangle are known here area is denoted by m\n",
    "if m == 0:\n",
    "    print(\"all points lie on the same line\")\n",
    "else:\n",
    "    print(\"all points are not lying in same line\")\n",
    "\n",
    "\n",
    "\n",
    "\n"
   ]
  },
  {
   "cell_type": "markdown",
   "metadata": {},
   "source": [
    "Given a quadratic equation with coefficients a, b and c, find the two solutions (may be real or complex). You should not take the square root of a negative number in your code.\n"
   ]
  },
  {
   "cell_type": "code",
   "execution_count": 16,
   "metadata": {},
   "outputs": [
    {
     "name": "stdout",
     "output_type": "stream",
     "text": [
      "the first and second root is -0.6972243622680054 -4.302775637731995\n"
     ]
    }
   ],
   "source": [
    "a=int(input(\"enter the coefficient of x²from the quadratic equation\"))#the quadratic equation is ax²+bx+c=0\n",
    "b=int(input(\"enter the coefficient of x from the quadratic equation \"))\n",
    "c=int(input(\"enter the constant from the quadratic equation\"))\n",
    "d=b**2-(4*a*c)#here d is discriminant of the equation\n",
    "e=d**0.5\n",
    "if d>0:\n",
    "    g=(-b+e)/2*a\n",
    "    f=(-b-e)/2*a\n",
    "    print(\"the first and second root is\",g,f)\n",
    "elif d==0:\n",
    "    print(\"both roots are equal is\",-b/(2*a))\n",
    "elif d<0:\n",
    "    print(\"the roots are complex\",((-b/2*a)+e/2*a),(-b/2*a)-e/2*a)\n",
    "else:\n",
    "    print(\"\")\n",
    "    \n",
    "\n",
    "\n"
   ]
  },
  {
   "cell_type": "code",
   "execution_count": null,
   "metadata": {},
   "outputs": [],
   "source": [
    "\n"
   ]
  }
 ],
 "metadata": {
  "kernelspec": {
   "display_name": "Python 3",
   "language": "python",
   "name": "python3"
  },
  "language_info": {
   "codemirror_mode": {
    "name": "ipython",
    "version": 3
   },
   "file_extension": ".py",
   "mimetype": "text/x-python",
   "name": "python",
   "nbconvert_exporter": "python",
   "pygments_lexer": "ipython3",
   "version": "3.11.4"
  },
  "orig_nbformat": 4
 },
 "nbformat": 4,
 "nbformat_minor": 2
}
