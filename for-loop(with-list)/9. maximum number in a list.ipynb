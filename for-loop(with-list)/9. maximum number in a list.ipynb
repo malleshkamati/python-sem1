{
 "cells": [
  {
   "cell_type": "markdown",
   "metadata": {},
   "source": [
    "9.Given a list of numbers, find out the maximum number."
   ]
  },
  {
   "cell_type": "code",
   "execution_count": 10,
   "metadata": {},
   "outputs": [
    {
     "name": "stdout",
     "output_type": "stream",
     "text": [
      "569\n"
     ]
    }
   ],
   "source": [
    "list1=[56,89,367,45,569]\n",
    "max_num=list1[0]# setting first index as maximum number and using it for comparing\n",
    "for i in list1:# iterating over list to comapare\n",
    "    if i>max_num:\n",
    "        max_num=i# changing the value of max_num if the number is greater then max_num\n",
    "print(max_num)"
   ]
  }
 ],
 "metadata": {
  "kernelspec": {
   "display_name": "Python 3",
   "language": "python",
   "name": "python3"
  },
  "language_info": {
   "codemirror_mode": {
    "name": "ipython",
    "version": 3
   },
   "file_extension": ".py",
   "mimetype": "text/x-python",
   "name": "python",
   "nbconvert_exporter": "python",
   "pygments_lexer": "ipython3",
   "version": "3.11.4"
  }
 },
 "nbformat": 4,
 "nbformat_minor": 2
}
