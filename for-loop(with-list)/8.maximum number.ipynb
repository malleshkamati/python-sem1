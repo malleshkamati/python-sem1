{
 "cells": [
  {
   "cell_type": "markdown",
   "metadata": {},
   "source": [
    "8.Given a list of numbers, find out the maximum number."
   ]
  },
  {
   "cell_type": "code",
   "execution_count": 1,
   "metadata": {},
   "outputs": [
    {
     "name": "stdout",
     "output_type": "stream",
     "text": [
      "487 is maximum number of list\n"
     ]
    }
   ],
   "source": [
    "list1=[32,56.6,487,45]\n",
    "max1=list1[0]# asuming that maximum number is lists first number\n",
    "for i in list1:\n",
    "    if i>max1:\n",
    "        max1=i # changing the value of max1 to maximum number\n",
    "print(max1,\"is maximum number of list\")"
   ]
  }
 ],
 "metadata": {
  "kernelspec": {
   "display_name": "Python 3",
   "language": "python",
   "name": "python3"
  },
  "language_info": {
   "codemirror_mode": {
    "name": "ipython",
    "version": 3
   },
   "file_extension": ".py",
   "mimetype": "text/x-python",
   "name": "python",
   "nbconvert_exporter": "python",
   "pygments_lexer": "ipython3",
   "version": "3.11.4"
  }
 },
 "nbformat": 4,
 "nbformat_minor": 2
}
