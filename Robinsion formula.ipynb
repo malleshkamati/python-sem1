{
 "cells": [
  {
   "cell_type": "code",
   "execution_count": null,
   "metadata": {},
   "outputs": [],
   "source": [
    "a=input(\"enter the gender 1 for male and 0 for female \")\n",
    "b=input(\"enter height in inches above 60 inches\")\n",
    "e = float(b)\n",
    "l =int(a)\n",
    "if l == 1:\n",
    "    c=52 + 1.9*e\n",
    "    print(c)\n",
    "else:\n",
    "    d=49 + 1.6*e\n",
    "    print(d)"
   ]
  }
 ],
 "metadata": {
  "language_info": {
   "name": "python"
  },
  "orig_nbformat": 4
 },
 "nbformat": 4,
 "nbformat_minor": 2
}
